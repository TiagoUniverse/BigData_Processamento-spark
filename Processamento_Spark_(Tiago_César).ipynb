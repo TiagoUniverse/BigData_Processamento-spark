{
  "nbformat": 4,
  "nbformat_minor": 0,
  "metadata": {
    "colab": {
      "provenance": []
    },
    "kernelspec": {
      "name": "python3",
      "display_name": "Python 3"
    },
    "language_info": {
      "name": "python"
    }
  },
  "cells": [
    {
      "cell_type": "markdown",
      "source": [
        "# Atividade 5 - Processamentos de Dados (Spark)\n",
        "\n",
        "Discente: Tiago César da Silva Lopes\n",
        "\n",
        "Data: 21/09/23"
      ],
      "metadata": {
        "id": "3QcdExDyF57h"
      }
    },
    {
      "cell_type": "markdown",
      "source": [
        "## Link\n",
        "https://www.who.int/data/gho/data/indicators/indicator-details/GHO/life-expectancy-at-birth-(years)\n",
        "\n",
        "\n",
        "## Orientações\n",
        "\n",
        "O dataset informa a expectativa de vida no nascimento e na idade de 60 anos em vários países. Note que quanto maior for o valor da expectativa de vida, melhor deve ser as condições de vida em um país.\n",
        "\n",
        "## Instruções\n",
        "Considerando a base de dados definida pelo aluno na Atividade 3, realize atividades de processamento, iniciada em sala (limpeza, seleção...) usando spark.\n",
        "\n",
        "Pode usar o material compartilhado como exemplo, no entanto, deve ser aplicado a base de dados escolhida pelo aluno (individual)."
      ],
      "metadata": {
        "id": "OiGTsTA8GKMQ"
      }
    },
    {
      "cell_type": "markdown",
      "source": [
        "## Instalação e exibição inicial do dataset"
      ],
      "metadata": {
        "id": "kOZuS8ONGcqf"
      }
    },
    {
      "cell_type": "code",
      "source": [
        "!pip install pyspark"
      ],
      "metadata": {
        "id": "-JPtxEma9bzB",
        "colab": {
          "base_uri": "https://localhost:8080/"
        },
        "outputId": "b6eda097-e45d-4bc3-8c51-56e5934ac0d7"
      },
      "execution_count": 1,
      "outputs": [
        {
          "output_type": "stream",
          "name": "stdout",
          "text": [
            "Collecting pyspark\n",
            "  Downloading pyspark-3.4.1.tar.gz (310.8 MB)\n",
            "\u001b[2K     \u001b[90m━━━━━━━━━━━━━━━━━━━━━━━━━━━━━━━━━━━━━━━\u001b[0m \u001b[32m310.8/310.8 MB\u001b[0m \u001b[31m4.3 MB/s\u001b[0m eta \u001b[36m0:00:00\u001b[0m\n",
            "\u001b[?25h  Preparing metadata (setup.py) ... \u001b[?25l\u001b[?25hdone\n",
            "Requirement already satisfied: py4j==0.10.9.7 in /usr/local/lib/python3.10/dist-packages (from pyspark) (0.10.9.7)\n",
            "Building wheels for collected packages: pyspark\n",
            "  Building wheel for pyspark (setup.py) ... \u001b[?25l\u001b[?25hdone\n",
            "  Created wheel for pyspark: filename=pyspark-3.4.1-py2.py3-none-any.whl size=311285387 sha256=080a08b9fa9fb7a1cca3f5729fb9fee306e0c55d538e476fb89d5f533d9d1bd4\n",
            "  Stored in directory: /root/.cache/pip/wheels/0d/77/a3/ff2f74cc9ab41f8f594dabf0579c2a7c6de920d584206e0834\n",
            "Successfully built pyspark\n",
            "Installing collected packages: pyspark\n",
            "Successfully installed pyspark-3.4.1\n"
          ]
        }
      ]
    },
    {
      "cell_type": "markdown",
      "source": [
        "Iniciando uma sessão local e importando os dados:\n"
      ],
      "metadata": {
        "id": "XyrorEloA3lr"
      }
    },
    {
      "cell_type": "code",
      "source": [
        "# Iniciar uma sessão local e importar dados\n",
        "from pyspark.sql import SparkSession\n",
        "sc = SparkSession.builder.master('local[*]').getOrCreate()"
      ],
      "metadata": {
        "id": "O1IKD4r99nOO"
      },
      "execution_count": 2,
      "outputs": []
    },
    {
      "cell_type": "code",
      "source": [
        "# carregar dados do meu computador\n",
        "dados_spark = sc.read.csv(\"Life expectancy at birth (years).csv\", header=True)\n",
        "\n",
        "# Verificando o tipo de objeto criado\n",
        "type(dados_spark)"
      ],
      "metadata": {
        "id": "WJ1leI6pjY4Y",
        "colab": {
          "base_uri": "https://localhost:8080/"
        },
        "outputId": "7ed9e8be-e1a7-4518-c18c-013ce3cd275b"
      },
      "execution_count": 3,
      "outputs": [
        {
          "output_type": "execute_result",
          "data": {
            "text/plain": [
              "pyspark.sql.dataframe.DataFrame"
            ]
          },
          "metadata": {},
          "execution_count": 3
        }
      ]
    },
    {
      "cell_type": "code",
      "source": [
        "# Verificando o dataset\n",
        "dados_spark.show(5)"
      ],
      "metadata": {
        "id": "DGpFbKY_EUST",
        "colab": {
          "base_uri": "https://localhost:8080/"
        },
        "outputId": "92b17211-7d70-4a9f-a09a-fa0dcfe5697b"
      },
      "execution_count": 44,
      "outputs": [
        {
          "output_type": "stream",
          "name": "stdout",
          "text": [
            "+-------------+--------------------+---------+------------------+--------------+-------------+-------------------+--------------------+-----------+------+------------+---------+----------+-------------+---------+----+-------------+---------+----+-------------+----------------------+----------+----------------------+----------------+------------+-------------------------+-------------------+--------------------------+--------------------+-----+----------------------+------------+--------+--------------------+\n",
            "|IndicatorCode|           Indicator|ValueType|ParentLocationCode|ParentLocation|Location type|SpatialDimValueCode|            Location|Period type|Period|IsLatestYear|Dim1 type|      Dim1|Dim1ValueCode|Dim2 type|Dim2|Dim2ValueCode|Dim3 type|Dim3|Dim3ValueCode|DataSourceDimValueCode|DataSource|FactValueNumericPrefix|FactValueNumeric|FactValueUoM|FactValueNumericLowPrefix|FactValueNumericLow|FactValueNumericHighPrefix|FactValueNumericHigh|Value|FactValueTranslationID|FactComments|Language|        DateModified|\n",
            "+-------------+--------------------+---------+------------------+--------------+-------------+-------------------+--------------------+-----------+------+------------+---------+----------+-------------+---------+----+-------------+---------+----+-------------+----------------------+----------+----------------------+----------------+------------+-------------------------+-------------------+--------------------------+--------------------+-----+----------------------+------------+--------+--------------------+\n",
            "|WHOSIS_000001|Life expectancy a...|     text|               AFR|        Africa|      Country|                LSO|             Lesotho|       Year|  2019|        true|      Sex|      Male|          MLE|     null|null|         null|     null|null|         null|                  null|      null|                  null|           47.66|        null|                     null|               null|                      null|                null|47.66|                  null|        null|      EN|2020-12-04T03:00:...|\n",
            "|WHOSIS_000001|Life expectancy a...|     text|               AFR|        Africa|      Country|                CAF|Central African R...|       Year|  2019|        true|      Sex|      Male|          MLE|     null|null|         null|     null|null|         null|                  null|      null|                  null|           50.21|        null|                     null|               null|                      null|                null|50.21|                  null|        null|      EN|2020-12-04T03:00:...|\n",
            "|WHOSIS_000001|Life expectancy a...|     text|               AFR|        Africa|      Country|                LSO|             Lesotho|       Year|  2019|        true|      Sex|Both sexes|         BTSX|     null|null|         null|     null|null|         null|                  null|      null|                  null|           50.75|        null|                     null|               null|                      null|                null|50.75|                  null|        null|      EN|2020-12-04T03:00:...|\n",
            "|WHOSIS_000001|Life expectancy a...|     text|               AFR|        Africa|      Country|                CAF|Central African R...|       Year|  2019|        true|      Sex|Both sexes|         BTSX|     null|null|         null|     null|null|         null|                  null|      null|                  null|            53.1|        null|                     null|               null|                      null|                null| 53.1|                  null|        null|      EN|2020-12-04T03:00:...|\n",
            "|WHOSIS_000001|Life expectancy a...|     text|               AFR|        Africa|      Country|                SWZ|            Eswatini|       Year|  2019|        true|      Sex|      Male|          MLE|     null|null|         null|     null|null|         null|                  null|      null|                  null|           53.36|        null|                     null|               null|                      null|                null|53.36|                  null|        null|      EN|2020-12-04T03:00:...|\n",
            "+-------------+--------------------+---------+------------------+--------------+-------------+-------------------+--------------------+-----------+------+------------+---------+----------+-------------+---------+----+-------------+---------+----+-------------+----------------------+----------+----------------------+----------------+------------+-------------------------+-------------------+--------------------------+--------------------+-----+----------------------+------------+--------+--------------------+\n",
            "only showing top 5 rows\n",
            "\n"
          ]
        }
      ]
    },
    {
      "cell_type": "code",
      "source": [
        "# Verificando o schema() deste spark dataframe\n",
        "dados_spark.printSchema()"
      ],
      "metadata": {
        "id": "GW0i9-jtElLb",
        "colab": {
          "base_uri": "https://localhost:8080/"
        },
        "outputId": "beff2e69-e475-4eec-eb45-53a9a99bed6a"
      },
      "execution_count": 5,
      "outputs": [
        {
          "output_type": "stream",
          "name": "stdout",
          "text": [
            "root\n",
            " |-- IndicatorCode: string (nullable = true)\n",
            " |-- Indicator: string (nullable = true)\n",
            " |-- ValueType: string (nullable = true)\n",
            " |-- ParentLocationCode: string (nullable = true)\n",
            " |-- ParentLocation: string (nullable = true)\n",
            " |-- Location type: string (nullable = true)\n",
            " |-- SpatialDimValueCode: string (nullable = true)\n",
            " |-- Location: string (nullable = true)\n",
            " |-- Period type: string (nullable = true)\n",
            " |-- Period: string (nullable = true)\n",
            " |-- IsLatestYear: string (nullable = true)\n",
            " |-- Dim1 type: string (nullable = true)\n",
            " |-- Dim1: string (nullable = true)\n",
            " |-- Dim1ValueCode: string (nullable = true)\n",
            " |-- Dim2 type: string (nullable = true)\n",
            " |-- Dim2: string (nullable = true)\n",
            " |-- Dim2ValueCode: string (nullable = true)\n",
            " |-- Dim3 type: string (nullable = true)\n",
            " |-- Dim3: string (nullable = true)\n",
            " |-- Dim3ValueCode: string (nullable = true)\n",
            " |-- DataSourceDimValueCode: string (nullable = true)\n",
            " |-- DataSource: string (nullable = true)\n",
            " |-- FactValueNumericPrefix: string (nullable = true)\n",
            " |-- FactValueNumeric: string (nullable = true)\n",
            " |-- FactValueUoM: string (nullable = true)\n",
            " |-- FactValueNumericLowPrefix: string (nullable = true)\n",
            " |-- FactValueNumericLow: string (nullable = true)\n",
            " |-- FactValueNumericHighPrefix: string (nullable = true)\n",
            " |-- FactValueNumericHigh: string (nullable = true)\n",
            " |-- Value: string (nullable = true)\n",
            " |-- FactValueTranslationID: string (nullable = true)\n",
            " |-- FactComments: string (nullable = true)\n",
            " |-- Language: string (nullable = true)\n",
            " |-- DateModified: string (nullable = true)\n",
            "\n"
          ]
        }
      ]
    },
    {
      "cell_type": "code",
      "source": [
        "#Retornar o número de linhas\n",
        "dados_spark.count()"
      ],
      "metadata": {
        "id": "zsqKgXvXkG7U",
        "colab": {
          "base_uri": "https://localhost:8080/"
        },
        "outputId": "49a98d49-e023-4823-b1a1-6e7b874d2e06"
      },
      "execution_count": 6,
      "outputs": [
        {
          "output_type": "execute_result",
          "data": {
            "text/plain": [
              "4392"
            ]
          },
          "metadata": {},
          "execution_count": 6
        }
      ]
    },
    {
      "cell_type": "markdown",
      "source": [
        "## Criando um novo dataset com colunas selecionadas\n",
        "\n",
        "O dataset original realmente precisa ser limpo e tratado. Dito isso, vamos gerar um novo dataset."
      ],
      "metadata": {
        "id": "TdCGfIXmIPnH"
      }
    },
    {
      "cell_type": "code",
      "source": [
        "#Selecionar colunas\n",
        "dados_selecionados = dados_spark.select(\"Indicator\",\"ParentLocation\",\"Location\",\"Period\",\"Dim1\",\"Value\").show(truncate=False)"
      ],
      "metadata": {
        "id": "f5F3dz1pkRwk",
        "colab": {
          "base_uri": "https://localhost:8080/"
        },
        "outputId": "9addbad0-044b-498e-e8cf-2addef9938cb"
      },
      "execution_count": 42,
      "outputs": [
        {
          "output_type": "stream",
          "name": "stdout",
          "text": [
            "+--------------------------------+---------------------+------------------------+------+----------+-----+\n",
            "|Indicator                       |ParentLocation       |Location                |Period|Dim1      |Value|\n",
            "+--------------------------------+---------------------+------------------------+------+----------+-----+\n",
            "|Life expectancy at birth (years)|Africa               |Lesotho                 |2019  |Male      |47.66|\n",
            "|Life expectancy at birth (years)|Africa               |Central African Republic|2019  |Male      |50.21|\n",
            "|Life expectancy at birth (years)|Africa               |Lesotho                 |2019  |Both sexes|50.75|\n",
            "|Life expectancy at birth (years)|Africa               |Central African Republic|2019  |Both sexes|53.1 |\n",
            "|Life expectancy at birth (years)|Africa               |Eswatini                |2019  |Male      |53.36|\n",
            "|Life expectancy at birth (years)|Eastern Mediterranean|Somalia                 |2019  |Male      |54.01|\n",
            "|Life expectancy at birth (years)|Africa               |Lesotho                 |2019  |Female    |54.24|\n",
            "|Life expectancy at birth (years)|Africa               |Mozambique              |2019  |Male      |54.46|\n",
            "|Life expectancy at birth (years)|Western Pacific      |Kiribati                |2019  |Male      |56.14|\n",
            "|Life expectancy at birth (years)|Africa               |Central African Republic|2019  |Female    |56.26|\n",
            "|Life expectancy at birth (years)|Eastern Mediterranean|Somalia                 |2019  |Both sexes|56.47|\n",
            "|Life expectancy at birth (years)|Africa               |Guinea-Bissau           |2019  |Male      |57.36|\n",
            "|Life expectancy at birth (years)|Africa               |Zimbabwe                |2019  |Male      |57.51|\n",
            "|Life expectancy at birth (years)|Africa               |Eswatini                |2019  |Both sexes|57.73|\n",
            "|Life expectancy at birth (years)|Africa               |Chad                    |2019  |Male      |57.95|\n",
            "|Life expectancy at birth (years)|Africa               |Mozambique              |2019  |Both sexes|58.14|\n",
            "|Life expectancy at birth (years)|Africa               |Botswana                |2019  |Male      |58.95|\n",
            "|Life expectancy at birth (years)|Eastern Mediterranean|Somalia                 |2019  |Female    |59.22|\n",
            "|Life expectancy at birth (years)|Western Pacific      |Kiribati                |2019  |Both sexes|59.42|\n",
            "|Life expectancy at birth (years)|Africa               |Guinea                  |2019  |Male      |59.48|\n",
            "+--------------------------------+---------------------+------------------------+------+----------+-----+\n",
            "only showing top 20 rows\n",
            "\n"
          ]
        }
      ]
    },
    {
      "cell_type": "code",
      "source": [
        "#Principais estatísticas\n",
        "dados_spark.describe('Period').show(5)"
      ],
      "metadata": {
        "id": "0oflcUOakpJE",
        "colab": {
          "base_uri": "https://localhost:8080/"
        },
        "outputId": "9a814aae-2143-4b6f-dd3c-0ce198283316"
      },
      "execution_count": 14,
      "outputs": [
        {
          "output_type": "stream",
          "name": "stdout",
          "text": [
            "+-------+-----------------+\n",
            "|summary|           Period|\n",
            "+-------+-----------------+\n",
            "|  count|             4392|\n",
            "|   mean|           2011.0|\n",
            "| stddev|7.107144348969578|\n",
            "|    min|             2000|\n",
            "|    max|             2019|\n",
            "+-------+-----------------+\n",
            "\n"
          ]
        }
      ]
    },
    {
      "cell_type": "code",
      "source": [
        "dados_spark.describe('Value').show(5)"
      ],
      "metadata": {
        "colab": {
          "base_uri": "https://localhost:8080/"
        },
        "id": "mhU01qAIJ9dI",
        "outputId": "806c25a5-c3f5-4001-a2ee-985d7e0b1698"
      },
      "execution_count": 12,
      "outputs": [
        {
          "output_type": "stream",
          "name": "stdout",
          "text": [
            "+-------+------------------+\n",
            "|summary|             Value|\n",
            "+-------+------------------+\n",
            "|  count|              4392|\n",
            "|   mean| 44.66155965391605|\n",
            "| stddev|26.433431379026093|\n",
            "|    min|             10.15|\n",
            "|    max|             86.94|\n",
            "+-------+------------------+\n",
            "\n"
          ]
        }
      ]
    },
    {
      "cell_type": "code",
      "source": [
        "# Importar a função \"col\" para trabalhar com colunas\n",
        "from pyspark.sql.functions import col\n",
        "\n",
        "# Contar as ocorrências únicas e ordenar os resultados\n",
        "dados_spark.groupBy(\"Indicator\").count().orderBy(col(\"count\").desc()).show(truncate=False)"
      ],
      "metadata": {
        "colab": {
          "base_uri": "https://localhost:8080/"
        },
        "id": "EqLXQ7bWL--X",
        "outputId": "f50765e8-e8e3-435c-e828-11b01f63bef1"
      },
      "execution_count": 23,
      "outputs": [
        {
          "output_type": "stream",
          "name": "stdout",
          "text": [
            "+---------------------------------+-----+\n",
            "|Indicator                        |count|\n",
            "+---------------------------------+-----+\n",
            "|Life expectancy at age 60 (years)|2196 |\n",
            "|Life expectancy at birth (years) |2196 |\n",
            "+---------------------------------+-----+\n",
            "\n"
          ]
        }
      ]
    },
    {
      "cell_type": "code",
      "source": [
        "#Ocorrências em uma variável\n",
        "dados_spark.select(\"Indicator\").distinct().show(truncate=False)"
      ],
      "metadata": {
        "id": "pqV94zc-k-En",
        "colab": {
          "base_uri": "https://localhost:8080/"
        },
        "outputId": "0be4a640-54c2-403f-bd63-a9ca50104fba"
      },
      "execution_count": 39,
      "outputs": [
        {
          "output_type": "stream",
          "name": "stdout",
          "text": [
            "+---------------------------------+\n",
            "|Indicator                        |\n",
            "+---------------------------------+\n",
            "|Life expectancy at age 60 (years)|\n",
            "|Life expectancy at birth (years) |\n",
            "+---------------------------------+\n",
            "\n"
          ]
        }
      ]
    },
    {
      "cell_type": "code",
      "source": [
        "#importar sql: groupBy\n",
        "from pyspark.sql import functions as F\n",
        "\n",
        "dados_spark.groupBy(\"Indicator\").agg(F.sum(\"Value\")).show(truncate=False)"
      ],
      "metadata": {
        "id": "GsC55YsQlZ_N",
        "colab": {
          "base_uri": "https://localhost:8080/"
        },
        "outputId": "02ee326f-b885-44ef-feb6-55f75e7cb9d1"
      },
      "execution_count": 40,
      "outputs": [
        {
          "output_type": "stream",
          "name": "stdout",
          "text": [
            "+---------------------------------+------------------+\n",
            "|Indicator                        |sum(Value)        |\n",
            "+---------------------------------+------------------+\n",
            "|Life expectancy at age 60 (years)|41949.12999999992 |\n",
            "|Life expectancy at birth (years) |154204.43999999986|\n",
            "+---------------------------------+------------------+\n",
            "\n"
          ]
        }
      ]
    },
    {
      "cell_type": "markdown",
      "source": [
        "## Análise e extração de informações"
      ],
      "metadata": {
        "id": "SLMQruHkMOvU"
      }
    },
    {
      "cell_type": "markdown",
      "source": [
        "### Qual o país com maior expectativa de vida?"
      ],
      "metadata": {
        "id": "RZsvpqq6Fcay"
      }
    },
    {
      "cell_type": "code",
      "source": [
        "pais_maiorExpectativa2 = dados_spark.groupBy('ParentLocation').agg(F.count('Value').alias('count(Value)')).orderBy(F.desc('count(Value)')).show(truncate=False)"
      ],
      "metadata": {
        "id": "xuxzdgTL-f_3",
        "colab": {
          "base_uri": "https://localhost:8080/"
        },
        "outputId": "9827b244-cf96-44c8-ce2e-2b540269ff3b"
      },
      "execution_count": 38,
      "outputs": [
        {
          "output_type": "stream",
          "name": "stdout",
          "text": [
            "+---------------------+------------+\n",
            "|ParentLocation       |count(Value)|\n",
            "+---------------------+------------+\n",
            "|Europe               |1200        |\n",
            "|Africa               |1128        |\n",
            "|Americas             |792         |\n",
            "|Western Pacific      |504         |\n",
            "|Eastern Mediterranean|504         |\n",
            "|South-East Asia      |264         |\n",
            "+---------------------+------------+\n",
            "\n"
          ]
        }
      ]
    },
    {
      "cell_type": "markdown",
      "source": [
        "### Qual é maior: De acordo com os dados, a expectativa de vida no nascimento ou quando se tem 60 anos?"
      ],
      "metadata": {
        "id": "GY2Y-iRiNg1L"
      }
    },
    {
      "cell_type": "code",
      "source": [
        "maior_expectativaVida = dados_spark.groupBy('Indicator').agg(F.sum('Value')).orderBy(F.sum('Value').desc()).show(truncate=False)"
      ],
      "metadata": {
        "colab": {
          "base_uri": "https://localhost:8080/"
        },
        "id": "r92eeg-0Nfy1",
        "outputId": "52e1dc12-b502-4ead-e306-44512ed4824a"
      },
      "execution_count": 36,
      "outputs": [
        {
          "output_type": "stream",
          "name": "stdout",
          "text": [
            "+---------------------------------+------------------+\n",
            "|Indicator                        |sum(Value)        |\n",
            "+---------------------------------+------------------+\n",
            "|Life expectancy at birth (years) |154204.43999999986|\n",
            "|Life expectancy at age 60 (years)|41949.12999999992 |\n",
            "+---------------------------------+------------------+\n",
            "\n"
          ]
        }
      ]
    },
    {
      "cell_type": "markdown",
      "source": [
        "Logo, podemos concluir que a expectativa de vida nos países do mundo é maior no nascimento (154204.44) do que na população com 60 anos (41949.13).\n",
        "\n",
        "154204.44 > 41949.13"
      ],
      "metadata": {
        "id": "Y8rcmaW4PZz1"
      }
    },
    {
      "cell_type": "markdown",
      "source": [
        "### Qual é o gênero com maior expectativa de vida?"
      ],
      "metadata": {
        "id": "ndJ4tQ5WFjXS"
      }
    },
    {
      "cell_type": "code",
      "source": [
        "genero_MaiorExpectativa = dados_spark.groupBy('Dim1').agg(F.sum('Value')).orderBy(F.sum('Value').desc()).show()"
      ],
      "metadata": {
        "id": "ZoT4xMQOB2wR",
        "colab": {
          "base_uri": "https://localhost:8080/"
        },
        "outputId": "bbefaefe-4065-405c-a5fa-add406215fb2"
      },
      "execution_count": 47,
      "outputs": [
        {
          "output_type": "stream",
          "name": "stdout",
          "text": [
            "+----------+------------------+\n",
            "|      Dim1|        sum(Value)|\n",
            "+----------+------------------+\n",
            "|    Female| 68226.84000000007|\n",
            "|Both sexes|  65398.9799999999|\n",
            "|      Male|62527.749999999876|\n",
            "+----------+------------------+\n",
            "\n"
          ]
        }
      ]
    },
    {
      "cell_type": "markdown",
      "source": [
        "Para a surpresa de muitas pessoas, inclusive a minha, a expectativa de vida é maior para o gênero Feminino. De acordo com o dataset, a média de ambos os sexos é 65,398.98, enquanto que o feminino é 68,226.84 e o masculino é 62,527.75.\n",
        "\n",
        "Logo, podemos concluir que as mulheres vivem mais do que os homens, mas isto eu deixo aberto para mais investigações.\n",
        "\n",
        " 68,226.84 > 62,527.75"
      ],
      "metadata": {
        "id": "i-g96bmDRCrr"
      }
    },
    {
      "cell_type": "markdown",
      "source": [
        "### Qual é o período que teve a maior expectativa de vida?"
      ],
      "metadata": {
        "id": "IR6p_1IaEfMR"
      }
    },
    {
      "cell_type": "code",
      "source": [
        "periodo_maiorExpectativa = dados_spark.groupBy('Period').agg(F.sum('Value')).orderBy(F.sum('Value').desc()).show()"
      ],
      "metadata": {
        "id": "Lrbb2Q6L1TtG",
        "colab": {
          "base_uri": "https://localhost:8080/"
        },
        "outputId": "5dee5019-5dcf-48b9-f658-8c79e736cbfe"
      },
      "execution_count": 48,
      "outputs": [
        {
          "output_type": "stream",
          "name": "stdout",
          "text": [
            "+------+-----------------+\n",
            "|Period|       sum(Value)|\n",
            "+------+-----------------+\n",
            "|  2019|         50730.63|\n",
            "|  2015|49972.70000000002|\n",
            "|  2010|48899.16999999988|\n",
            "|  2000|46551.06999999991|\n",
            "+------+-----------------+\n",
            "\n"
          ]
        }
      ]
    },
    {
      "cell_type": "markdown",
      "source": [
        "O ano com maior taxa de expectativa de vida foi o mais recente, 2019. Logo, podemos concluir que conforme os anos vão passando e as tecnologias evoluindo, a expectativa de vida também vai melhorando pelo mundo."
      ],
      "metadata": {
        "id": "mL81ddrTR2tl"
      }
    },
    {
      "cell_type": "markdown",
      "source": [
        "### Qual é a localização com maior expectativa de vida?"
      ],
      "metadata": {
        "id": "lYPUd0daSKfQ"
      }
    },
    {
      "cell_type": "code",
      "source": [
        "location_maiorExpectativa = dados_spark.groupBy('Location').agg(F.sum('Value')).orderBy(F.sum('Value').desc()).show()"
      ],
      "metadata": {
        "colab": {
          "base_uri": "https://localhost:8080/"
        },
        "id": "ZPYmjxxhSO1g",
        "outputId": "2ed81e83-3fa6-4fff-af22-5a9c9882232d"
      },
      "execution_count": 51,
      "outputs": [
        {
          "output_type": "stream",
          "name": "stdout",
          "text": [
            "+-----------------+------------------+\n",
            "|         Location|        sum(Value)|\n",
            "+-----------------+------------------+\n",
            "|            Japan|1298.2999999999997|\n",
            "|      Switzerland|           1276.26|\n",
            "|        Australia|1275.9399999999998|\n",
            "|            Spain|1269.6999999999998|\n",
            "|            Italy|           1266.95|\n",
            "|        Singapore|           1266.51|\n",
            "|           France|1266.2700000000002|\n",
            "|          Iceland|           1263.99|\n",
            "|           Canada|           1262.56|\n",
            "|           Israel|           1258.79|\n",
            "|           Sweden|1258.2599999999998|\n",
            "|           Cyprus|1257.7999999999997|\n",
            "|      New Zealand|1254.7900000000002|\n",
            "|           Norway|1254.3100000000002|\n",
            "|       Luxembourg|           1252.72|\n",
            "|Republic of Korea|           1249.21|\n",
            "|       Costa Rica|1246.4100000000005|\n",
            "|           Kuwait|1245.6799999999998|\n",
            "|            Malta|1242.6500000000003|\n",
            "|      Netherlands|1241.2400000000002|\n",
            "+-----------------+------------------+\n",
            "only showing top 20 rows\n",
            "\n"
          ]
        }
      ]
    },
    {
      "cell_type": "markdown",
      "source": [
        "A lista acima exibe os locais com maiores expectativas de vida. Podemos notar nome de vários Locais conhecidos, como Japão, Canadá, Austrália, Espanha, Itália, Costa Rica entre outros. Note que neste dataset, o Japão registrou a maior taxa de expectativa de vida mundial."
      ],
      "metadata": {
        "id": "FJ5phGT6Sf-C"
      }
    },
    {
      "cell_type": "markdown",
      "source": [
        "### Qual a localização com a menor expectativa de vida?"
      ],
      "metadata": {
        "id": "DdbMXEufSwyr"
      }
    },
    {
      "cell_type": "code",
      "source": [
        "location_menorExpectativa = dados_spark.groupBy('Location').agg(F.sum('Value')).orderBy(F.sum('Value').asc()).show()"
      ],
      "metadata": {
        "colab": {
          "base_uri": "https://localhost:8080/"
        },
        "id": "HhvnUTvpSz1d",
        "outputId": "111c1032-16ae-4511-a0f6-b155546adc63"
      },
      "execution_count": 52,
      "outputs": [
        {
          "output_type": "stream",
          "name": "stdout",
          "text": [
            "+--------------------+-----------------+\n",
            "|            Location|       sum(Value)|\n",
            "+--------------------+-----------------+\n",
            "|             Lesotho|739.8800000000001|\n",
            "|Central African R...|           740.28|\n",
            "|            Eswatini|791.0100000000001|\n",
            "|             Somalia|807.5100000000001|\n",
            "|               Haiti|827.0699999999999|\n",
            "|            Zimbabwe|827.1300000000001|\n",
            "|          Mozambique|837.7700000000001|\n",
            "|       Guinea-Bissau|847.6600000000001|\n",
            "|            Kiribati|852.4899999999998|\n",
            "|              Zambia|           854.84|\n",
            "|        Sierra Leone|856.2800000000001|\n",
            "|            Botswana|           861.79|\n",
            "|                Chad|862.6500000000001|\n",
            "|             Burundi|           868.07|\n",
            "|              Malawi|882.1900000000002|\n",
            "|       Côte d’Ivoire|885.2099999999999|\n",
            "|            Cameroon|885.8800000000001|\n",
            "|              Guinea|886.2400000000001|\n",
            "|Democratic Republ...|           888.06|\n",
            "|              Angola|889.3599999999999|\n",
            "+--------------------+-----------------+\n",
            "only showing top 20 rows\n",
            "\n"
          ]
        }
      ]
    },
    {
      "cell_type": "markdown",
      "source": [
        "Acima é exibido os locais com as menores taxas de expectativas de vida, como o central da África, Haiti, Angola dentre outros. Isso tem fundamentação nos acontecimentos históricos e políticos que assolam essas localizações."
      ],
      "metadata": {
        "id": "IWwxtzIfS5Bk"
      }
    },
    {
      "cell_type": "markdown",
      "source": [
        "## Valores nulos"
      ],
      "metadata": {
        "id": "IcWsUpU4TNnd"
      }
    },
    {
      "cell_type": "code",
      "source": [
        "#Dados faltantes\n",
        "dados_spark.select([F.count(F.when(F.isnull(c), c)).alias(c) for c in dados_spark.columns]).show()"
      ],
      "metadata": {
        "id": "7lObwNKmmQLF",
        "colab": {
          "base_uri": "https://localhost:8080/"
        },
        "outputId": "c2d27517-6bf3-46d1-bc3d-788ac6839f16"
      },
      "execution_count": 53,
      "outputs": [
        {
          "output_type": "stream",
          "name": "stdout",
          "text": [
            "+-------------+---------+---------+------------------+--------------+-------------+-------------------+--------+-----------+------+------------+---------+----+-------------+---------+----+-------------+---------+----+-------------+----------------------+----------+----------------------+----------------+------------+-------------------------+-------------------+--------------------------+--------------------+-----+----------------------+------------+--------+------------+\n",
            "|IndicatorCode|Indicator|ValueType|ParentLocationCode|ParentLocation|Location type|SpatialDimValueCode|Location|Period type|Period|IsLatestYear|Dim1 type|Dim1|Dim1ValueCode|Dim2 type|Dim2|Dim2ValueCode|Dim3 type|Dim3|Dim3ValueCode|DataSourceDimValueCode|DataSource|FactValueNumericPrefix|FactValueNumeric|FactValueUoM|FactValueNumericLowPrefix|FactValueNumericLow|FactValueNumericHighPrefix|FactValueNumericHigh|Value|FactValueTranslationID|FactComments|Language|DateModified|\n",
            "+-------------+---------+---------+------------------+--------------+-------------+-------------------+--------+-----------+------+------------+---------+----+-------------+---------+----+-------------+---------+----+-------------+----------------------+----------+----------------------+----------------+------------+-------------------------+-------------------+--------------------------+--------------------+-----+----------------------+------------+--------+------------+\n",
            "|            0|        0|        0|                 0|             0|            0|                  0|       0|          0|     0|           0|        0|   0|            0|     4392|4392|         4392|     4392|4392|         4392|                  4392|      4392|                  4392|               0|        4392|                     4392|               4392|                      4392|                4392|    0|                  4392|        4392|       0|           0|\n",
            "+-------------+---------+---------+------------------+--------------+-------------+-------------------+--------+-----------+------+------------+---------+----+-------------+---------+----+-------------+---------+----+-------------+----------------------+----------+----------------------+----------------+------------+-------------------------+-------------------+--------------------------+--------------------+-----+----------------------+------------+--------+------------+\n",
            "\n"
          ]
        }
      ]
    },
    {
      "cell_type": "code",
      "source": [
        "#substituir valores ausentes\n",
        "dados_spark_sem_na = dados_spark.fillna({'Dim2 type':'Sem Resposta', 'Dim2':'Sem Resposta' , 'Dim2ValueCode':'Sem Resposta' , 'Dim3 type':'Sem Resposta' , 'Dim3':'Sem Resposta'\n",
        ", 'Dim3ValueCode' : 'Sem Resposta' , 'DataSourceDimValueCode' : 'Sem Resposta' , 'DataSource' : 'Sem Resposta' , 'FactValueNumericPrefix' : 'Sem Resposta',\n",
        " 'FactValueUoM' : 'Sem Resposta' , 'FactValueNumericLowPrefix' : 'Sem Resposta' , 'FactValueNumericLow' : 'Sem Resposta' , 'FactValueNumericHighPrefix' : 'Sem Resposta',\n",
        "'FactValueTranslationID' : 'Sem Resposta' , 'FactComments' : 'Sem Resposta' , 'FactValueNumericHigh' : 'Sem Resposta'                                         })"
      ],
      "metadata": {
        "id": "Gr1pPPNim3vf"
      },
      "execution_count": 54,
      "outputs": []
    },
    {
      "cell_type": "code",
      "source": [
        "dados_spark_sem_na.select([F.count(F.when(F.isnull(c), c)).alias(c) for c in dados_spark_sem_na.columns]).show()"
      ],
      "metadata": {
        "id": "SIvHhLZ3nvHc",
        "colab": {
          "base_uri": "https://localhost:8080/"
        },
        "outputId": "d7e79a81-6b89-4fc8-b69a-3805f3b3d205"
      },
      "execution_count": 55,
      "outputs": [
        {
          "output_type": "stream",
          "name": "stdout",
          "text": [
            "+-------------+---------+---------+------------------+--------------+-------------+-------------------+--------+-----------+------+------------+---------+----+-------------+---------+----+-------------+---------+----+-------------+----------------------+----------+----------------------+----------------+------------+-------------------------+-------------------+--------------------------+--------------------+-----+----------------------+------------+--------+------------+\n",
            "|IndicatorCode|Indicator|ValueType|ParentLocationCode|ParentLocation|Location type|SpatialDimValueCode|Location|Period type|Period|IsLatestYear|Dim1 type|Dim1|Dim1ValueCode|Dim2 type|Dim2|Dim2ValueCode|Dim3 type|Dim3|Dim3ValueCode|DataSourceDimValueCode|DataSource|FactValueNumericPrefix|FactValueNumeric|FactValueUoM|FactValueNumericLowPrefix|FactValueNumericLow|FactValueNumericHighPrefix|FactValueNumericHigh|Value|FactValueTranslationID|FactComments|Language|DateModified|\n",
            "+-------------+---------+---------+------------------+--------------+-------------+-------------------+--------+-----------+------+------------+---------+----+-------------+---------+----+-------------+---------+----+-------------+----------------------+----------+----------------------+----------------+------------+-------------------------+-------------------+--------------------------+--------------------+-----+----------------------+------------+--------+------------+\n",
            "|            0|        0|        0|                 0|             0|            0|                  0|       0|          0|     0|           0|        0|   0|            0|        0|   0|            0|        0|   0|            0|                     0|         0|                     0|               0|           0|                        0|                  0|                         0|                   0|    0|                     0|           0|       0|           0|\n",
            "+-------------+---------+---------+------------------+--------------+-------------+-------------------+--------+-----------+------+------------+---------+----+-------------+---------+----+-------------+---------+----+-------------+----------------------+----------+----------------------+----------------+------------+-------------------------+-------------------+--------------------------+--------------------+-----+----------------------+------------+--------+------------+\n",
            "\n"
          ]
        }
      ]
    },
    {
      "cell_type": "markdown",
      "source": [
        "Os valores nulos foram substituídos pelo texto 'Sem resposta', e assim não tem mais valor nulo no dataset."
      ],
      "metadata": {
        "id": "jgILwzc9U7wH"
      }
    },
    {
      "cell_type": "code",
      "source": [
        "# Verificando o novo dataset\n",
        "dados_spark_sem_na.show(5)"
      ],
      "metadata": {
        "id": "9jXnA27gnT_D",
        "colab": {
          "base_uri": "https://localhost:8080/"
        },
        "outputId": "efe5bb9e-3cdd-4097-cf71-af1f799fe07e"
      },
      "execution_count": 56,
      "outputs": [
        {
          "output_type": "stream",
          "name": "stdout",
          "text": [
            "+-------------+--------------------+---------+------------------+--------------+-------------+-------------------+--------------------+-----------+------+------------+---------+----------+-------------+------------+------------+-------------+------------+------------+-------------+----------------------+------------+----------------------+----------------+------------+-------------------------+-------------------+--------------------------+--------------------+-----+----------------------+------------+--------+--------------------+\n",
            "|IndicatorCode|           Indicator|ValueType|ParentLocationCode|ParentLocation|Location type|SpatialDimValueCode|            Location|Period type|Period|IsLatestYear|Dim1 type|      Dim1|Dim1ValueCode|   Dim2 type|        Dim2|Dim2ValueCode|   Dim3 type|        Dim3|Dim3ValueCode|DataSourceDimValueCode|  DataSource|FactValueNumericPrefix|FactValueNumeric|FactValueUoM|FactValueNumericLowPrefix|FactValueNumericLow|FactValueNumericHighPrefix|FactValueNumericHigh|Value|FactValueTranslationID|FactComments|Language|        DateModified|\n",
            "+-------------+--------------------+---------+------------------+--------------+-------------+-------------------+--------------------+-----------+------+------------+---------+----------+-------------+------------+------------+-------------+------------+------------+-------------+----------------------+------------+----------------------+----------------+------------+-------------------------+-------------------+--------------------------+--------------------+-----+----------------------+------------+--------+--------------------+\n",
            "|WHOSIS_000001|Life expectancy a...|     text|               AFR|        Africa|      Country|                LSO|             Lesotho|       Year|  2019|        true|      Sex|      Male|          MLE|Sem Resposta|Sem Resposta| Sem Resposta|Sem Resposta|Sem Resposta| Sem Resposta|          Sem Resposta|Sem Resposta|          Sem Resposta|           47.66|Sem Resposta|             Sem Resposta|       Sem Resposta|              Sem Resposta|        Sem Resposta|47.66|          Sem Resposta|Sem Resposta|      EN|2020-12-04T03:00:...|\n",
            "|WHOSIS_000001|Life expectancy a...|     text|               AFR|        Africa|      Country|                CAF|Central African R...|       Year|  2019|        true|      Sex|      Male|          MLE|Sem Resposta|Sem Resposta| Sem Resposta|Sem Resposta|Sem Resposta| Sem Resposta|          Sem Resposta|Sem Resposta|          Sem Resposta|           50.21|Sem Resposta|             Sem Resposta|       Sem Resposta|              Sem Resposta|        Sem Resposta|50.21|          Sem Resposta|Sem Resposta|      EN|2020-12-04T03:00:...|\n",
            "|WHOSIS_000001|Life expectancy a...|     text|               AFR|        Africa|      Country|                LSO|             Lesotho|       Year|  2019|        true|      Sex|Both sexes|         BTSX|Sem Resposta|Sem Resposta| Sem Resposta|Sem Resposta|Sem Resposta| Sem Resposta|          Sem Resposta|Sem Resposta|          Sem Resposta|           50.75|Sem Resposta|             Sem Resposta|       Sem Resposta|              Sem Resposta|        Sem Resposta|50.75|          Sem Resposta|Sem Resposta|      EN|2020-12-04T03:00:...|\n",
            "|WHOSIS_000001|Life expectancy a...|     text|               AFR|        Africa|      Country|                CAF|Central African R...|       Year|  2019|        true|      Sex|Both sexes|         BTSX|Sem Resposta|Sem Resposta| Sem Resposta|Sem Resposta|Sem Resposta| Sem Resposta|          Sem Resposta|Sem Resposta|          Sem Resposta|            53.1|Sem Resposta|             Sem Resposta|       Sem Resposta|              Sem Resposta|        Sem Resposta| 53.1|          Sem Resposta|Sem Resposta|      EN|2020-12-04T03:00:...|\n",
            "|WHOSIS_000001|Life expectancy a...|     text|               AFR|        Africa|      Country|                SWZ|            Eswatini|       Year|  2019|        true|      Sex|      Male|          MLE|Sem Resposta|Sem Resposta| Sem Resposta|Sem Resposta|Sem Resposta| Sem Resposta|          Sem Resposta|Sem Resposta|          Sem Resposta|           53.36|Sem Resposta|             Sem Resposta|       Sem Resposta|              Sem Resposta|        Sem Resposta|53.36|          Sem Resposta|Sem Resposta|      EN|2020-12-04T03:00:...|\n",
            "+-------------+--------------------+---------+------------------+--------------+-------------+-------------------+--------------------+-----------+------+------------+---------+----------+-------------+------------+------------+-------------+------------+------------+-------------+----------------------+------------+----------------------+----------------+------------+-------------------------+-------------------+--------------------------+--------------------+-----+----------------------+------------+--------+--------------------+\n",
            "only showing top 5 rows\n",
            "\n"
          ]
        }
      ]
    },
    {
      "cell_type": "markdown",
      "source": [
        "## Exclusão de colunas da base de dados"
      ],
      "metadata": {
        "id": "do3gnMbKVFzx"
      }
    },
    {
      "cell_type": "code",
      "source": [
        "# Lista das colunas que vão ser excluídas\n",
        "colunas_a_excluir = [\n",
        "    'Dim2 type', 'Dim2', 'Dim2ValueCode',\n",
        "    'Dim3 type', 'Dim3', 'Dim3ValueCode',\n",
        "    'DataSourceDimValueCode', 'DataSource',\n",
        "    'FactValueNumericPrefix', 'FactValueUoM',\n",
        "    'FactValueNumericLowPrefix', 'FactValueNumericLow',\n",
        "    'FactValueNumericHighPrefix', 'FactValueNumericHigh',\n",
        "    'FactValueTranslationID', 'FactComments'\n",
        "]"
      ],
      "metadata": {
        "id": "SrTcz3ozVjNJ"
      },
      "execution_count": 57,
      "outputs": []
    },
    {
      "cell_type": "code",
      "source": [
        "#Excluir colunas da base de dados\n",
        "dados_spark = dados_spark.drop(*colunas_a_excluir)\n",
        "dados_spark.show(5)"
      ],
      "metadata": {
        "colab": {
          "base_uri": "https://localhost:8080/"
        },
        "id": "8uffLXRHVmMh",
        "outputId": "28dd9880-6b6f-4172-d221-6f00c5c8ad06"
      },
      "execution_count": 58,
      "outputs": [
        {
          "output_type": "stream",
          "name": "stdout",
          "text": [
            "+-------------+--------------------+---------+------------------+--------------+-------------+-------------------+--------------------+-----------+------+------------+---------+----------+-------------+----------------+-----+--------+--------------------+\n",
            "|IndicatorCode|           Indicator|ValueType|ParentLocationCode|ParentLocation|Location type|SpatialDimValueCode|            Location|Period type|Period|IsLatestYear|Dim1 type|      Dim1|Dim1ValueCode|FactValueNumeric|Value|Language|        DateModified|\n",
            "+-------------+--------------------+---------+------------------+--------------+-------------+-------------------+--------------------+-----------+------+------------+---------+----------+-------------+----------------+-----+--------+--------------------+\n",
            "|WHOSIS_000001|Life expectancy a...|     text|               AFR|        Africa|      Country|                LSO|             Lesotho|       Year|  2019|        true|      Sex|      Male|          MLE|           47.66|47.66|      EN|2020-12-04T03:00:...|\n",
            "|WHOSIS_000001|Life expectancy a...|     text|               AFR|        Africa|      Country|                CAF|Central African R...|       Year|  2019|        true|      Sex|      Male|          MLE|           50.21|50.21|      EN|2020-12-04T03:00:...|\n",
            "|WHOSIS_000001|Life expectancy a...|     text|               AFR|        Africa|      Country|                LSO|             Lesotho|       Year|  2019|        true|      Sex|Both sexes|         BTSX|           50.75|50.75|      EN|2020-12-04T03:00:...|\n",
            "|WHOSIS_000001|Life expectancy a...|     text|               AFR|        Africa|      Country|                CAF|Central African R...|       Year|  2019|        true|      Sex|Both sexes|         BTSX|            53.1| 53.1|      EN|2020-12-04T03:00:...|\n",
            "|WHOSIS_000001|Life expectancy a...|     text|               AFR|        Africa|      Country|                SWZ|            Eswatini|       Year|  2019|        true|      Sex|      Male|          MLE|           53.36|53.36|      EN|2020-12-04T03:00:...|\n",
            "+-------------+--------------------+---------+------------------+--------------+-------------+-------------------+--------------------+-----------+------+------------+---------+----------+-------------+----------------+-----+--------+--------------------+\n",
            "only showing top 5 rows\n",
            "\n"
          ]
        }
      ]
    },
    {
      "cell_type": "markdown",
      "source": [
        "## Salvando o resultado e convertendo para pandas"
      ],
      "metadata": {
        "id": "9lhPziOzWAQG"
      }
    },
    {
      "cell_type": "code",
      "source": [
        "# Salvar resultado\n",
        "dados_spark_sem_na.write.csv(\"/content/dadosSpark\")"
      ],
      "metadata": {
        "id": "oKVVjf34oY9O"
      },
      "execution_count": 59,
      "outputs": []
    },
    {
      "cell_type": "code",
      "source": [
        "# Spark para Pandas\n",
        "dados_spark_sem_na_pd = dados_spark_sem_na.toPandas()\n",
        "\n",
        "# Salvar resultado\n",
        "dados_spark_sem_na_pd.to_csv(\"dados_pandas.csv\")"
      ],
      "metadata": {
        "id": "PpXIvEW_pxWh"
      },
      "execution_count": 60,
      "outputs": []
    },
    {
      "cell_type": "code",
      "source": [
        "dados_spark_sem_na_pd.head()"
      ],
      "metadata": {
        "colab": {
          "base_uri": "https://localhost:8080/",
          "height": 533
        },
        "id": "F2ZKK_5hd68I",
        "outputId": "6707b8a5-d472-4c32-b0fc-328b0c4450e2"
      },
      "execution_count": 61,
      "outputs": [
        {
          "output_type": "execute_result",
          "data": {
            "text/plain": [
              "   IndicatorCode                         Indicator ValueType  \\\n",
              "0  WHOSIS_000001  Life expectancy at birth (years)      text   \n",
              "1  WHOSIS_000001  Life expectancy at birth (years)      text   \n",
              "2  WHOSIS_000001  Life expectancy at birth (years)      text   \n",
              "3  WHOSIS_000001  Life expectancy at birth (years)      text   \n",
              "4  WHOSIS_000001  Life expectancy at birth (years)      text   \n",
              "\n",
              "  ParentLocationCode ParentLocation Location type SpatialDimValueCode  \\\n",
              "0                AFR         Africa       Country                 LSO   \n",
              "1                AFR         Africa       Country                 CAF   \n",
              "2                AFR         Africa       Country                 LSO   \n",
              "3                AFR         Africa       Country                 CAF   \n",
              "4                AFR         Africa       Country                 SWZ   \n",
              "\n",
              "                   Location Period type Period  ...  FactValueUoM  \\\n",
              "0                   Lesotho        Year   2019  ...  Sem Resposta   \n",
              "1  Central African Republic        Year   2019  ...  Sem Resposta   \n",
              "2                   Lesotho        Year   2019  ...  Sem Resposta   \n",
              "3  Central African Republic        Year   2019  ...  Sem Resposta   \n",
              "4                  Eswatini        Year   2019  ...  Sem Resposta   \n",
              "\n",
              "  FactValueNumericLowPrefix FactValueNumericLow FactValueNumericHighPrefix  \\\n",
              "0              Sem Resposta        Sem Resposta               Sem Resposta   \n",
              "1              Sem Resposta        Sem Resposta               Sem Resposta   \n",
              "2              Sem Resposta        Sem Resposta               Sem Resposta   \n",
              "3              Sem Resposta        Sem Resposta               Sem Resposta   \n",
              "4              Sem Resposta        Sem Resposta               Sem Resposta   \n",
              "\n",
              "  FactValueNumericHigh  Value FactValueTranslationID  FactComments Language  \\\n",
              "0         Sem Resposta  47.66           Sem Resposta  Sem Resposta       EN   \n",
              "1         Sem Resposta  50.21           Sem Resposta  Sem Resposta       EN   \n",
              "2         Sem Resposta  50.75           Sem Resposta  Sem Resposta       EN   \n",
              "3         Sem Resposta   53.1           Sem Resposta  Sem Resposta       EN   \n",
              "4         Sem Resposta  53.36           Sem Resposta  Sem Resposta       EN   \n",
              "\n",
              "               DateModified  \n",
              "0  2020-12-04T03:00:00.000Z  \n",
              "1  2020-12-04T03:00:00.000Z  \n",
              "2  2020-12-04T03:00:00.000Z  \n",
              "3  2020-12-04T03:00:00.000Z  \n",
              "4  2020-12-04T03:00:00.000Z  \n",
              "\n",
              "[5 rows x 34 columns]"
            ],
            "text/html": [
              "\n",
              "  <div id=\"df-dedd2e82-8e2d-4379-bc05-fdee7fd40c1f\" class=\"colab-df-container\">\n",
              "    <div>\n",
              "<style scoped>\n",
              "    .dataframe tbody tr th:only-of-type {\n",
              "        vertical-align: middle;\n",
              "    }\n",
              "\n",
              "    .dataframe tbody tr th {\n",
              "        vertical-align: top;\n",
              "    }\n",
              "\n",
              "    .dataframe thead th {\n",
              "        text-align: right;\n",
              "    }\n",
              "</style>\n",
              "<table border=\"1\" class=\"dataframe\">\n",
              "  <thead>\n",
              "    <tr style=\"text-align: right;\">\n",
              "      <th></th>\n",
              "      <th>IndicatorCode</th>\n",
              "      <th>Indicator</th>\n",
              "      <th>ValueType</th>\n",
              "      <th>ParentLocationCode</th>\n",
              "      <th>ParentLocation</th>\n",
              "      <th>Location type</th>\n",
              "      <th>SpatialDimValueCode</th>\n",
              "      <th>Location</th>\n",
              "      <th>Period type</th>\n",
              "      <th>Period</th>\n",
              "      <th>...</th>\n",
              "      <th>FactValueUoM</th>\n",
              "      <th>FactValueNumericLowPrefix</th>\n",
              "      <th>FactValueNumericLow</th>\n",
              "      <th>FactValueNumericHighPrefix</th>\n",
              "      <th>FactValueNumericHigh</th>\n",
              "      <th>Value</th>\n",
              "      <th>FactValueTranslationID</th>\n",
              "      <th>FactComments</th>\n",
              "      <th>Language</th>\n",
              "      <th>DateModified</th>\n",
              "    </tr>\n",
              "  </thead>\n",
              "  <tbody>\n",
              "    <tr>\n",
              "      <th>0</th>\n",
              "      <td>WHOSIS_000001</td>\n",
              "      <td>Life expectancy at birth (years)</td>\n",
              "      <td>text</td>\n",
              "      <td>AFR</td>\n",
              "      <td>Africa</td>\n",
              "      <td>Country</td>\n",
              "      <td>LSO</td>\n",
              "      <td>Lesotho</td>\n",
              "      <td>Year</td>\n",
              "      <td>2019</td>\n",
              "      <td>...</td>\n",
              "      <td>Sem Resposta</td>\n",
              "      <td>Sem Resposta</td>\n",
              "      <td>Sem Resposta</td>\n",
              "      <td>Sem Resposta</td>\n",
              "      <td>Sem Resposta</td>\n",
              "      <td>47.66</td>\n",
              "      <td>Sem Resposta</td>\n",
              "      <td>Sem Resposta</td>\n",
              "      <td>EN</td>\n",
              "      <td>2020-12-04T03:00:00.000Z</td>\n",
              "    </tr>\n",
              "    <tr>\n",
              "      <th>1</th>\n",
              "      <td>WHOSIS_000001</td>\n",
              "      <td>Life expectancy at birth (years)</td>\n",
              "      <td>text</td>\n",
              "      <td>AFR</td>\n",
              "      <td>Africa</td>\n",
              "      <td>Country</td>\n",
              "      <td>CAF</td>\n",
              "      <td>Central African Republic</td>\n",
              "      <td>Year</td>\n",
              "      <td>2019</td>\n",
              "      <td>...</td>\n",
              "      <td>Sem Resposta</td>\n",
              "      <td>Sem Resposta</td>\n",
              "      <td>Sem Resposta</td>\n",
              "      <td>Sem Resposta</td>\n",
              "      <td>Sem Resposta</td>\n",
              "      <td>50.21</td>\n",
              "      <td>Sem Resposta</td>\n",
              "      <td>Sem Resposta</td>\n",
              "      <td>EN</td>\n",
              "      <td>2020-12-04T03:00:00.000Z</td>\n",
              "    </tr>\n",
              "    <tr>\n",
              "      <th>2</th>\n",
              "      <td>WHOSIS_000001</td>\n",
              "      <td>Life expectancy at birth (years)</td>\n",
              "      <td>text</td>\n",
              "      <td>AFR</td>\n",
              "      <td>Africa</td>\n",
              "      <td>Country</td>\n",
              "      <td>LSO</td>\n",
              "      <td>Lesotho</td>\n",
              "      <td>Year</td>\n",
              "      <td>2019</td>\n",
              "      <td>...</td>\n",
              "      <td>Sem Resposta</td>\n",
              "      <td>Sem Resposta</td>\n",
              "      <td>Sem Resposta</td>\n",
              "      <td>Sem Resposta</td>\n",
              "      <td>Sem Resposta</td>\n",
              "      <td>50.75</td>\n",
              "      <td>Sem Resposta</td>\n",
              "      <td>Sem Resposta</td>\n",
              "      <td>EN</td>\n",
              "      <td>2020-12-04T03:00:00.000Z</td>\n",
              "    </tr>\n",
              "    <tr>\n",
              "      <th>3</th>\n",
              "      <td>WHOSIS_000001</td>\n",
              "      <td>Life expectancy at birth (years)</td>\n",
              "      <td>text</td>\n",
              "      <td>AFR</td>\n",
              "      <td>Africa</td>\n",
              "      <td>Country</td>\n",
              "      <td>CAF</td>\n",
              "      <td>Central African Republic</td>\n",
              "      <td>Year</td>\n",
              "      <td>2019</td>\n",
              "      <td>...</td>\n",
              "      <td>Sem Resposta</td>\n",
              "      <td>Sem Resposta</td>\n",
              "      <td>Sem Resposta</td>\n",
              "      <td>Sem Resposta</td>\n",
              "      <td>Sem Resposta</td>\n",
              "      <td>53.1</td>\n",
              "      <td>Sem Resposta</td>\n",
              "      <td>Sem Resposta</td>\n",
              "      <td>EN</td>\n",
              "      <td>2020-12-04T03:00:00.000Z</td>\n",
              "    </tr>\n",
              "    <tr>\n",
              "      <th>4</th>\n",
              "      <td>WHOSIS_000001</td>\n",
              "      <td>Life expectancy at birth (years)</td>\n",
              "      <td>text</td>\n",
              "      <td>AFR</td>\n",
              "      <td>Africa</td>\n",
              "      <td>Country</td>\n",
              "      <td>SWZ</td>\n",
              "      <td>Eswatini</td>\n",
              "      <td>Year</td>\n",
              "      <td>2019</td>\n",
              "      <td>...</td>\n",
              "      <td>Sem Resposta</td>\n",
              "      <td>Sem Resposta</td>\n",
              "      <td>Sem Resposta</td>\n",
              "      <td>Sem Resposta</td>\n",
              "      <td>Sem Resposta</td>\n",
              "      <td>53.36</td>\n",
              "      <td>Sem Resposta</td>\n",
              "      <td>Sem Resposta</td>\n",
              "      <td>EN</td>\n",
              "      <td>2020-12-04T03:00:00.000Z</td>\n",
              "    </tr>\n",
              "  </tbody>\n",
              "</table>\n",
              "<p>5 rows × 34 columns</p>\n",
              "</div>\n",
              "    <div class=\"colab-df-buttons\">\n",
              "\n",
              "  <div class=\"colab-df-container\">\n",
              "    <button class=\"colab-df-convert\" onclick=\"convertToInteractive('df-dedd2e82-8e2d-4379-bc05-fdee7fd40c1f')\"\n",
              "            title=\"Convert this dataframe to an interactive table.\"\n",
              "            style=\"display:none;\">\n",
              "\n",
              "  <svg xmlns=\"http://www.w3.org/2000/svg\" height=\"24px\" viewBox=\"0 -960 960 960\">\n",
              "    <path d=\"M120-120v-720h720v720H120Zm60-500h600v-160H180v160Zm220 220h160v-160H400v160Zm0 220h160v-160H400v160ZM180-400h160v-160H180v160Zm440 0h160v-160H620v160ZM180-180h160v-160H180v160Zm440 0h160v-160H620v160Z\"/>\n",
              "  </svg>\n",
              "    </button>\n",
              "\n",
              "  <style>\n",
              "    .colab-df-container {\n",
              "      display:flex;\n",
              "      gap: 12px;\n",
              "    }\n",
              "\n",
              "    .colab-df-convert {\n",
              "      background-color: #E8F0FE;\n",
              "      border: none;\n",
              "      border-radius: 50%;\n",
              "      cursor: pointer;\n",
              "      display: none;\n",
              "      fill: #1967D2;\n",
              "      height: 32px;\n",
              "      padding: 0 0 0 0;\n",
              "      width: 32px;\n",
              "    }\n",
              "\n",
              "    .colab-df-convert:hover {\n",
              "      background-color: #E2EBFA;\n",
              "      box-shadow: 0px 1px 2px rgba(60, 64, 67, 0.3), 0px 1px 3px 1px rgba(60, 64, 67, 0.15);\n",
              "      fill: #174EA6;\n",
              "    }\n",
              "\n",
              "    .colab-df-buttons div {\n",
              "      margin-bottom: 4px;\n",
              "    }\n",
              "\n",
              "    [theme=dark] .colab-df-convert {\n",
              "      background-color: #3B4455;\n",
              "      fill: #D2E3FC;\n",
              "    }\n",
              "\n",
              "    [theme=dark] .colab-df-convert:hover {\n",
              "      background-color: #434B5C;\n",
              "      box-shadow: 0px 1px 3px 1px rgba(0, 0, 0, 0.15);\n",
              "      filter: drop-shadow(0px 1px 2px rgba(0, 0, 0, 0.3));\n",
              "      fill: #FFFFFF;\n",
              "    }\n",
              "  </style>\n",
              "\n",
              "    <script>\n",
              "      const buttonEl =\n",
              "        document.querySelector('#df-dedd2e82-8e2d-4379-bc05-fdee7fd40c1f button.colab-df-convert');\n",
              "      buttonEl.style.display =\n",
              "        google.colab.kernel.accessAllowed ? 'block' : 'none';\n",
              "\n",
              "      async function convertToInteractive(key) {\n",
              "        const element = document.querySelector('#df-dedd2e82-8e2d-4379-bc05-fdee7fd40c1f');\n",
              "        const dataTable =\n",
              "          await google.colab.kernel.invokeFunction('convertToInteractive',\n",
              "                                                    [key], {});\n",
              "        if (!dataTable) return;\n",
              "\n",
              "        const docLinkHtml = 'Like what you see? Visit the ' +\n",
              "          '<a target=\"_blank\" href=https://colab.research.google.com/notebooks/data_table.ipynb>data table notebook</a>'\n",
              "          + ' to learn more about interactive tables.';\n",
              "        element.innerHTML = '';\n",
              "        dataTable['output_type'] = 'display_data';\n",
              "        await google.colab.output.renderOutput(dataTable, element);\n",
              "        const docLink = document.createElement('div');\n",
              "        docLink.innerHTML = docLinkHtml;\n",
              "        element.appendChild(docLink);\n",
              "      }\n",
              "    </script>\n",
              "  </div>\n",
              "\n",
              "\n",
              "<div id=\"df-cc60d53b-ba6d-40cb-8d50-71c998d9bc59\">\n",
              "  <button class=\"colab-df-quickchart\" onclick=\"quickchart('df-cc60d53b-ba6d-40cb-8d50-71c998d9bc59')\"\n",
              "            title=\"Suggest charts.\"\n",
              "            style=\"display:none;\">\n",
              "\n",
              "<svg xmlns=\"http://www.w3.org/2000/svg\" height=\"24px\"viewBox=\"0 0 24 24\"\n",
              "     width=\"24px\">\n",
              "    <g>\n",
              "        <path d=\"M19 3H5c-1.1 0-2 .9-2 2v14c0 1.1.9 2 2 2h14c1.1 0 2-.9 2-2V5c0-1.1-.9-2-2-2zM9 17H7v-7h2v7zm4 0h-2V7h2v10zm4 0h-2v-4h2v4z\"/>\n",
              "    </g>\n",
              "</svg>\n",
              "  </button>\n",
              "\n",
              "<style>\n",
              "  .colab-df-quickchart {\n",
              "      --bg-color: #E8F0FE;\n",
              "      --fill-color: #1967D2;\n",
              "      --hover-bg-color: #E2EBFA;\n",
              "      --hover-fill-color: #174EA6;\n",
              "      --disabled-fill-color: #AAA;\n",
              "      --disabled-bg-color: #DDD;\n",
              "  }\n",
              "\n",
              "  [theme=dark] .colab-df-quickchart {\n",
              "      --bg-color: #3B4455;\n",
              "      --fill-color: #D2E3FC;\n",
              "      --hover-bg-color: #434B5C;\n",
              "      --hover-fill-color: #FFFFFF;\n",
              "      --disabled-bg-color: #3B4455;\n",
              "      --disabled-fill-color: #666;\n",
              "  }\n",
              "\n",
              "  .colab-df-quickchart {\n",
              "    background-color: var(--bg-color);\n",
              "    border: none;\n",
              "    border-radius: 50%;\n",
              "    cursor: pointer;\n",
              "    display: none;\n",
              "    fill: var(--fill-color);\n",
              "    height: 32px;\n",
              "    padding: 0;\n",
              "    width: 32px;\n",
              "  }\n",
              "\n",
              "  .colab-df-quickchart:hover {\n",
              "    background-color: var(--hover-bg-color);\n",
              "    box-shadow: 0 1px 2px rgba(60, 64, 67, 0.3), 0 1px 3px 1px rgba(60, 64, 67, 0.15);\n",
              "    fill: var(--button-hover-fill-color);\n",
              "  }\n",
              "\n",
              "  .colab-df-quickchart-complete:disabled,\n",
              "  .colab-df-quickchart-complete:disabled:hover {\n",
              "    background-color: var(--disabled-bg-color);\n",
              "    fill: var(--disabled-fill-color);\n",
              "    box-shadow: none;\n",
              "  }\n",
              "\n",
              "  .colab-df-spinner {\n",
              "    border: 2px solid var(--fill-color);\n",
              "    border-color: transparent;\n",
              "    border-bottom-color: var(--fill-color);\n",
              "    animation:\n",
              "      spin 1s steps(1) infinite;\n",
              "  }\n",
              "\n",
              "  @keyframes spin {\n",
              "    0% {\n",
              "      border-color: transparent;\n",
              "      border-bottom-color: var(--fill-color);\n",
              "      border-left-color: var(--fill-color);\n",
              "    }\n",
              "    20% {\n",
              "      border-color: transparent;\n",
              "      border-left-color: var(--fill-color);\n",
              "      border-top-color: var(--fill-color);\n",
              "    }\n",
              "    30% {\n",
              "      border-color: transparent;\n",
              "      border-left-color: var(--fill-color);\n",
              "      border-top-color: var(--fill-color);\n",
              "      border-right-color: var(--fill-color);\n",
              "    }\n",
              "    40% {\n",
              "      border-color: transparent;\n",
              "      border-right-color: var(--fill-color);\n",
              "      border-top-color: var(--fill-color);\n",
              "    }\n",
              "    60% {\n",
              "      border-color: transparent;\n",
              "      border-right-color: var(--fill-color);\n",
              "    }\n",
              "    80% {\n",
              "      border-color: transparent;\n",
              "      border-right-color: var(--fill-color);\n",
              "      border-bottom-color: var(--fill-color);\n",
              "    }\n",
              "    90% {\n",
              "      border-color: transparent;\n",
              "      border-bottom-color: var(--fill-color);\n",
              "    }\n",
              "  }\n",
              "</style>\n",
              "\n",
              "  <script>\n",
              "    async function quickchart(key) {\n",
              "      const quickchartButtonEl =\n",
              "        document.querySelector('#' + key + ' button');\n",
              "      quickchartButtonEl.disabled = true;  // To prevent multiple clicks.\n",
              "      quickchartButtonEl.classList.add('colab-df-spinner');\n",
              "      try {\n",
              "        const charts = await google.colab.kernel.invokeFunction(\n",
              "            'suggestCharts', [key], {});\n",
              "      } catch (error) {\n",
              "        console.error('Error during call to suggestCharts:', error);\n",
              "      }\n",
              "      quickchartButtonEl.classList.remove('colab-df-spinner');\n",
              "      quickchartButtonEl.classList.add('colab-df-quickchart-complete');\n",
              "    }\n",
              "    (() => {\n",
              "      let quickchartButtonEl =\n",
              "        document.querySelector('#df-cc60d53b-ba6d-40cb-8d50-71c998d9bc59 button');\n",
              "      quickchartButtonEl.style.display =\n",
              "        google.colab.kernel.accessAllowed ? 'block' : 'none';\n",
              "    })();\n",
              "  </script>\n",
              "</div>\n",
              "    </div>\n",
              "  </div>\n"
            ]
          },
          "metadata": {},
          "execution_count": 61
        }
      ]
    }
  ]
}